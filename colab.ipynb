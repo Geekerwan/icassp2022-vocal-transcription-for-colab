{
  "nbformat": 4,
  "nbformat_minor": 0,
  "metadata": {
    "colab": {
      "provenance": [],
      "collapsed_sections": []
    },
    "kernelspec": {
      "name": "python3",
      "display_name": "Python 3"
    },
    "language_info": {
      "name": "python"
    },
    "accelerator": "GPU"
  },
  "cells": [
    {
      "cell_type": "code",
      "execution_count": null,
      "metadata": {
        "id": "_ypydYrNbNc3",
        "cellView": "form"
      },
      "outputs": [],
      "source": [
        "#@title Clone From Git\n",
        "!git clone https://github.com/Geekerwan/icassp2022-vocal-transcription-for-colab"
      ]
    },
    {
      "cell_type": "code",
      "source": [
        "#@title Install requirements.txt\n",
        "!pip install -r /content/icassp2022-vocal-transcription-for-colab/requirements.txt"
      ],
      "metadata": {
        "id": "rRsIg-vib5KY"
      },
      "execution_count": null,
      "outputs": []
    },
    {
      "cell_type": "code",
      "source": [
        "#@title Upload And Process\n",
        "from google.colab import files\n",
        "import subprocess\n",
        "f=files.upload()\n",
        "for key in f:\n",
        "  command=\"python /content/icassp2022-vocal-transcription/src/singing_transcription.py -i \\\"\" +key+ \"\\\" -o /tmp/\"\n",
        "  subprocess.call(command,shell=\"True\")"
      ],
      "metadata": {
        "cellView": "form",
        "id": "f14c8ZuUS4-t"
      },
      "execution_count": null,
      "outputs": []
    },
    {
      "cell_type": "code",
      "source": [
        "#@title Download\n",
        "for key in f:\n",
        "  n=''\n",
        "  j=key.split('.')[0:-1]\n",
        "  for k in j:\n",
        "    n=n+'.'+k\n",
        "  n=n.lstrip('.').rstrip('/content/')\n",
        "  file='/tmp/'+n+'.mid'\n",
        "  try:\n",
        "    files.download(file)\n",
        "  except:\n",
        "    print('Cannot find file : ',file)"
      ],
      "metadata": {
        "cellView": "form",
        "id": "BukkHnkNXg1x"
      },
      "execution_count": null,
      "outputs": []
    }
  ]
}
