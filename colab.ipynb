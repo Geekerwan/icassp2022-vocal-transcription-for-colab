!git clone https://gitee.com/geeker1001/icassp2022-vocal-transcription/tree/main
